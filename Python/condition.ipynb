{
 "cells": [
  {
   "cell_type": "markdown",
   "id": "d7b72a59",
   "metadata": {},
   "source": [
    "<h4>CONDITIONAL STATEMENTS IN PYTHON</h4>"
   ]
  },
  {
   "cell_type": "code",
   "execution_count": 7,
   "id": "41a03a95",
   "metadata": {},
   "outputs": [],
   "source": [
    "# if\n",
    "# main code\n",
    "# elif\n",
    "# multiple conditions\n",
    "# else"
   ]
  },
  {
   "cell_type": "code",
   "execution_count": 8,
   "id": "8cc45255",
   "metadata": {},
   "outputs": [],
   "source": [
    "# if condition:\n",
    "#     pass #pass is placeholder\n",
    "# else:\n",
    "#     pass"
   ]
  },
  {
   "cell_type": "code",
   "execution_count": 9,
   "id": "f5583576",
   "metadata": {},
   "outputs": [
    {
     "name": "stdout",
     "output_type": "stream",
     "text": [
      "10 is greater\n"
     ]
    }
   ],
   "source": [
    "if 10>5:\n",
    "    print(\"10 is greater\")\n",
    "    "
   ]
  },
  {
   "cell_type": "code",
   "execution_count": 10,
   "id": "3947ff60",
   "metadata": {},
   "outputs": [
    {
     "name": "stdout",
     "output_type": "stream",
     "text": [
      "10 is greater than 5\n"
     ]
    }
   ],
   "source": [
    "if 10>5:\n",
    "    print(\"10 is greater than 5\")\n",
    "\n",
    "else:\n",
    "    print(\"10 is not greater than 5\")"
   ]
  },
  {
   "cell_type": "code",
   "execution_count": 11,
   "id": "789798a9",
   "metadata": {},
   "outputs": [],
   "source": [
    "if 10<5:\n",
    "    print(\"10 is greater than 5\")"
   ]
  },
  {
   "cell_type": "code",
   "execution_count": 12,
   "id": "0cb46309",
   "metadata": {},
   "outputs": [
    {
     "name": "stdout",
     "output_type": "stream",
     "text": [
      "5 is not greater than 10\n"
     ]
    }
   ],
   "source": [
    "if 10<5:\n",
    "    print(\"10 is greater than 5\")\n",
    "else:\n",
    "    print(\"5 is not greater than 10\")"
   ]
  },
  {
   "cell_type": "code",
   "execution_count": null,
   "id": "9bb0dc43",
   "metadata": {},
   "outputs": [],
   "source": [
    "if 10<5:\n",
    "    print(\"10 is greater than 5\")\n",
    "elif:\n",
    "    print(\"elif block will run\")\n",
    "else:\n",
    "    print(\"5 is not greater than 10\")"
   ]
  },
  {
   "cell_type": "code",
   "execution_count": null,
   "id": "20cb12bc",
   "metadata": {},
   "outputs": [],
   "source": [
    "# a=10\n",
    "# b=20\n",
    "# c=30\n",
    "# list1=[2,4,5,6,6,7,90]\n",
    "# find the largest "
   ]
  }
 ],
 "metadata": {
  "kernelspec": {
   "display_name": "Python 3",
   "language": "python",
   "name": "python3"
  },
  "language_info": {
   "codemirror_mode": {
    "name": "ipython",
    "version": 3
   },
   "file_extension": ".py",
   "mimetype": "text/x-python",
   "name": "python",
   "nbconvert_exporter": "python",
   "pygments_lexer": "ipython3",
   "version": "3.11.5"
  }
 },
 "nbformat": 4,
 "nbformat_minor": 5
}

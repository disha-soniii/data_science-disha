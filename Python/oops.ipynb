{
 "cells": [
  {
   "cell_type": "markdown",
   "id": "c8285497",
   "metadata": {},
   "source": [
    "<h4>OOPs Concept</h4>"
   ]
  },
  {
   "cell_type": "code",
   "execution_count": 82,
   "id": "9b4f0f48",
   "metadata": {},
   "outputs": [],
   "source": [
    "#class is a keyword\n",
    "#pass is a placeholder"
   ]
  },
  {
   "cell_type": "code",
   "execution_count": 83,
   "id": "17650857",
   "metadata": {},
   "outputs": [],
   "source": [
    "class Class_name:\n",
    "    pass\n",
    "class_obj=Class_name()"
   ]
  },
  {
   "cell_type": "code",
   "execution_count": 84,
   "id": "ced81eee",
   "metadata": {},
   "outputs": [],
   "source": [
    "class Student:\n",
    "    pass\n",
    "student1=Student()"
   ]
  },
  {
   "cell_type": "code",
   "execution_count": 85,
   "id": "76907141",
   "metadata": {},
   "outputs": [],
   "source": [
    "class Student:\n",
    "    student_name=\"disha\"\n",
    "    classes=\"third year\"\n",
    "    roll_number=224455\n",
    "student_obj=Student()"
   ]
  },
  {
   "cell_type": "code",
   "execution_count": 86,
   "id": "18885d99",
   "metadata": {},
   "outputs": [
    {
     "name": "stdout",
     "output_type": "stream",
     "text": [
      "disha\n"
     ]
    }
   ],
   "source": [
    "print(student_obj.student_name)"
   ]
  },
  {
   "cell_type": "code",
   "execution_count": 87,
   "id": "96e68fdf",
   "metadata": {},
   "outputs": [],
   "source": [
    "class College:\n",
    "    student_name=\"disha\"\n",
    "    student_roll=33\n",
    "    student_class=\"third year\"\n",
    "    def display(self):\n",
    "        print(f\"student name is {self.student_name}, roll number is {self.student_roll}, class is {self.student_class}\")\n",
    "        print(self.student_name)\n",
    "clg=College()"
   ]
  },
  {
   "cell_type": "code",
   "execution_count": 88,
   "id": "69e1f175",
   "metadata": {},
   "outputs": [
    {
     "data": {
      "text/plain": [
       "'third year'"
      ]
     },
     "execution_count": 88,
     "metadata": {},
     "output_type": "execute_result"
    }
   ],
   "source": [
    "clg.student_class"
   ]
  },
  {
   "cell_type": "code",
   "execution_count": 89,
   "id": "63682173",
   "metadata": {},
   "outputs": [
    {
     "name": "stdout",
     "output_type": "stream",
     "text": [
      "student name is disha, roll number is 33, class is third year\n",
      "disha\n"
     ]
    }
   ],
   "source": [
    "clg.display()"
   ]
  },
  {
   "cell_type": "markdown",
   "id": "82e16bd0",
   "metadata": {},
   "source": [
    "<h4>Inheritance</h4>"
   ]
  },
  {
   "cell_type": "markdown",
   "id": "b78e09cb",
   "metadata": {},
   "source": [
    "| *Type of Inheritance*      | *Description*                                                                       | *Diagram Example*        |\n",
    "| ---------------------------- | ------------------------------------------------------------------------------------- | -------------------------- |\n",
    "| *Single Inheritance*       | A child class inherits from a single parent class.                                    | A → B                    |\n",
    "| *Multiple Inheritance*     | A child class inherits from more than one parent class.                               | A → C ← B                |\n",
    "| *Multilevel Inheritance*   | A child class inherits from a parent class, which itself inherits from another class. | A → B → C                |\n",
    "| *Hierarchical Inheritance* | Multiple child classes inherit from the same parent class.                            | ` A → B`<br>` A → C`       |\n",
    "| *Hybrid Inheritance*       | A combination of two or more types of inheritance.                                    | Combination of above forms |"
   ]
  },
  {
   "cell_type": "code",
   "execution_count": 90,
   "id": "75698d11",
   "metadata": {},
   "outputs": [],
   "source": [
    "class College:\n",
    "    student_fee=100000\n",
    "class Student(College):\n",
    "    student_name=\"disha\"\n",
    "    student_roll=21\n",
    "st_obj=Student()\n",
    "    "
   ]
  },
  {
   "cell_type": "code",
   "execution_count": 91,
   "id": "c331b23a",
   "metadata": {},
   "outputs": [
    {
     "data": {
      "text/plain": [
       "100000"
      ]
     },
     "execution_count": 91,
     "metadata": {},
     "output_type": "execute_result"
    }
   ],
   "source": [
    "st_obj.student_fee"
   ]
  },
  {
   "cell_type": "code",
   "execution_count": 92,
   "id": "e465d680",
   "metadata": {},
   "outputs": [],
   "source": [
    "class College:\n",
    "    college_fee=1000000\n",
    "class Hostel:\n",
    "    hostel_fee=50000\n",
    "class Student(College,Hostel):\n",
    "    student_name=\"disha\"\n",
    "    student_id=33\n",
    "obj=Student()"
   ]
  },
  {
   "cell_type": "code",
   "execution_count": 93,
   "id": "73dccb3a",
   "metadata": {},
   "outputs": [
    {
     "data": {
      "text/plain": [
       "1000000"
      ]
     },
     "execution_count": 93,
     "metadata": {},
     "output_type": "execute_result"
    }
   ],
   "source": [
    "obj.college_fee"
   ]
  },
  {
   "cell_type": "code",
   "execution_count": 94,
   "id": "31eb4612",
   "metadata": {},
   "outputs": [
    {
     "data": {
      "text/plain": [
       "50000"
      ]
     },
     "execution_count": 94,
     "metadata": {},
     "output_type": "execute_result"
    }
   ],
   "source": [
    "obj.hostel_fee"
   ]
  },
  {
   "cell_type": "code",
   "execution_count": 95,
   "id": "0a47f068",
   "metadata": {},
   "outputs": [],
   "source": [
    "class Father:\n",
    "    def skill(self):\n",
    "        print(\"programmer\")\n",
    "        \n",
    "class Mother:\n",
    "    def occupation(self):\n",
    "        print(\"teacher\")\n",
    "class Child(Father,Mother):\n",
    "    def display(self):\n",
    "        print(\"my name is disha\")\n",
    "        \n",
    "obj=Child()"
   ]
  },
  {
   "cell_type": "code",
   "execution_count": 96,
   "id": "7933e8d9",
   "metadata": {},
   "outputs": [
    {
     "name": "stdout",
     "output_type": "stream",
     "text": [
      "programmer\n"
     ]
    }
   ],
   "source": [
    "obj.skill()"
   ]
  },
  {
   "cell_type": "code",
   "execution_count": 97,
   "id": "0c84ab8c",
   "metadata": {},
   "outputs": [
    {
     "name": "stdout",
     "output_type": "stream",
     "text": [
      "teacher\n"
     ]
    }
   ],
   "source": [
    "obj.occupation()"
   ]
  },
  {
   "cell_type": "code",
   "execution_count": 98,
   "id": "b20d9043",
   "metadata": {},
   "outputs": [],
   "source": [
    "class Grand_Father:\n",
    "    def skill(self):\n",
    "        print(\"programmer\")\n",
    "        \n",
    "class Father(Grand_Father):\n",
    "    def occupation(self):\n",
    "        print(\" programmer and teacher\")\n",
    "class Child(Father):\n",
    "    def display(self):\n",
    "        print(\"my name is disha\")\n",
    "        \n",
    "obj=Child()"
   ]
  },
  {
   "cell_type": "code",
   "execution_count": 99,
   "id": "732500c0",
   "metadata": {},
   "outputs": [
    {
     "name": "stdout",
     "output_type": "stream",
     "text": [
      " programmer and teacher\n"
     ]
    }
   ],
   "source": [
    "obj.occupation()"
   ]
  },
  {
   "cell_type": "code",
   "execution_count": 100,
   "id": "aaa60b2d",
   "metadata": {},
   "outputs": [],
   "source": [
    "class College:\n",
    "    college_name=\"GWECA\" #public variable\n",
    "    _placements=\"70 percent\"  #protected variable\n",
    "    __salary=150000  #private variable\n",
    "    def display(self):\n",
    "        print(f\"college name is {self.college_name}\")\n",
    "clg=College()"
   ]
  },
  {
   "cell_type": "code",
   "execution_count": 101,
   "id": "4b0c2054",
   "metadata": {},
   "outputs": [
    {
     "data": {
      "text/plain": [
       "'GWECA'"
      ]
     },
     "execution_count": 101,
     "metadata": {},
     "output_type": "execute_result"
    }
   ],
   "source": [
    "clg.college_name"
   ]
  },
  {
   "cell_type": "code",
   "execution_count": 102,
   "id": "683ec9c4",
   "metadata": {},
   "outputs": [
    {
     "data": {
      "text/plain": [
       "'70 percent'"
      ]
     },
     "execution_count": 102,
     "metadata": {},
     "output_type": "execute_result"
    }
   ],
   "source": [
    "clg._placements"
   ]
  },
  {
   "cell_type": "code",
   "execution_count": 103,
   "id": "7c123e92",
   "metadata": {},
   "outputs": [
    {
     "ename": "AttributeError",
     "evalue": "'College' object has no attribute '__salary'",
     "output_type": "error",
     "traceback": [
      "\u001b[31m---------------------------------------------------------------------------\u001b[39m",
      "\u001b[31mAttributeError\u001b[39m                            Traceback (most recent call last)",
      "\u001b[36mCell\u001b[39m\u001b[36m \u001b[39m\u001b[32mIn[103]\u001b[39m\u001b[32m, line 1\u001b[39m\n\u001b[32m----> \u001b[39m\u001b[32m1\u001b[39m \u001b[43mclg\u001b[49m\u001b[43m.\u001b[49m\u001b[43m__salary\u001b[49m\n",
      "\u001b[31mAttributeError\u001b[39m: 'College' object has no attribute '__salary'"
     ]
    }
   ],
   "source": [
    "clg.__salary"
   ]
  },
  {
   "cell_type": "code",
   "execution_count": null,
   "id": "8ea2b616",
   "metadata": {},
   "outputs": [
    {
     "name": "stdout",
     "output_type": "stream",
     "text": [
      "college name is GWECA\n"
     ]
    }
   ],
   "source": [
    "clg.display()"
   ]
  },
  {
   "cell_type": "code",
   "execution_count": null,
   "id": "09b421e4",
   "metadata": {},
   "outputs": [
    {
     "data": {
      "text/plain": [
       "150000"
      ]
     },
     "execution_count": 81,
     "metadata": {},
     "output_type": "execute_result"
    }
   ],
   "source": [
    "clg._College__salary  #way to access private variable  object_name._Class_name__variable_name"
   ]
  },
  {
   "cell_type": "markdown",
   "id": "f9c1345e",
   "metadata": {},
   "source": [
    "<h4>Polymorphism</h4>"
   ]
  },
  {
   "cell_type": "code",
   "execution_count": 119,
   "id": "0d7862fc",
   "metadata": {},
   "outputs": [
    {
     "name": "stdout",
     "output_type": "stream",
     "text": [
      "Father goes to office\n",
      "Mother works at home\n"
     ]
    }
   ],
   "source": [
    "class Father:\n",
    "    def work(self):\n",
    "        print(\"Father goes to office\")\n",
    "\n",
    "class Mother:\n",
    "    def work(self):\n",
    "        print(\"Mother works at home\")\n",
    "        \n",
    "f = Father()\n",
    "m = Mother()\n",
    "\n",
    "\n",
    "f.work()   \n",
    "m.work()   "
   ]
  },
  {
   "cell_type": "code",
   "execution_count": 118,
   "id": "83a0ff0b",
   "metadata": {},
   "outputs": [
    {
     "name": "stdout",
     "output_type": "stream",
     "text": [
      "Result: 9\n"
     ]
    }
   ],
   "source": [
    "class Addition:\n",
    "    def add(self,a=0,b=0,c=0):\n",
    "        print(\"Result:\",a+b+c)\n",
    "\n",
    "obj=Addition()        \n",
    "obj.add(2,3,4)    "
   ]
  },
  {
   "cell_type": "code",
   "execution_count": null,
   "id": "e8fec8a0",
   "metadata": {},
   "outputs": [
    {
     "name": "stdout",
     "output_type": "stream",
     "text": [
      "Result: 4\n"
     ]
    }
   ],
   "source": [
    "obj.add(1,3)           \n"
   ]
  },
  {
   "cell_type": "code",
   "execution_count": 117,
   "id": "25ed6391",
   "metadata": {},
   "outputs": [
    {
     "name": "stdout",
     "output_type": "stream",
     "text": [
      "Father is a teacher\n",
      "Son is a software developer\n"
     ]
    }
   ],
   "source": [
    "class Father:\n",
    "    def work(self):\n",
    "        print(\"Father is a teacher\")\n",
    "\n",
    "class Son(Father):\n",
    "    def work(self):  \n",
    "        print(\"Son is a software developer\")\n",
    "\n",
    "\n",
    "f = Father()\n",
    "s = Son()\n",
    "\n",
    "f.work()  \n",
    "s.work()  "
   ]
  }
 ],
 "metadata": {
  "kernelspec": {
   "display_name": "Python 3",
   "language": "python",
   "name": "python3"
  },
  "language_info": {
   "codemirror_mode": {
    "name": "ipython",
    "version": 3
   },
   "file_extension": ".py",
   "mimetype": "text/x-python",
   "name": "python",
   "nbconvert_exporter": "python",
   "pygments_lexer": "ipython3",
   "version": "3.11.5"
  }
 },
 "nbformat": 4,
 "nbformat_minor": 5
}

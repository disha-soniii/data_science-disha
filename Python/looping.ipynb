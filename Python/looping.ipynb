{
 "cells": [
  {
   "cell_type": "code",
   "execution_count": 21,
   "id": "3d7915d3",
   "metadata": {},
   "outputs": [],
   "source": [
    "# looping\n",
    "# for \n",
    "# while"
   ]
  },
  {
   "cell_type": "markdown",
   "id": "b602cdeb",
   "metadata": {},
   "source": [
    "<h4>for loop in python</h4>"
   ]
  },
  {
   "cell_type": "code",
   "execution_count": 22,
   "id": "b1b82dbe",
   "metadata": {},
   "outputs": [],
   "source": [
    "list1=[11,2,3,5,5,8,5,8]\n",
    "for item in list1:\n",
    "    pass\n",
    "#for is keyword\n",
    "#in is membership operator\n",
    "#is is "
   ]
  },
  {
   "cell_type": "code",
   "execution_count": 23,
   "id": "26cd9141",
   "metadata": {},
   "outputs": [
    {
     "name": "stdout",
     "output_type": "stream",
     "text": [
      "11\n",
      "2\n",
      "3\n",
      "5\n",
      "5\n",
      "8\n",
      "5\n",
      "8\n"
     ]
    }
   ],
   "source": [
    "for item in list1:\n",
    "    print(item)"
   ]
  },
  {
   "cell_type": "code",
   "execution_count": 24,
   "id": "2747d663",
   "metadata": {},
   "outputs": [
    {
     "name": "stdout",
     "output_type": "stream",
     "text": [
      "d\n",
      "i\n",
      "s\n",
      "h\n",
      "a\n",
      " \n",
      "s\n",
      "o\n",
      "n\n",
      "i\n"
     ]
    }
   ],
   "source": [
    "for x in \"disha soni\":\n",
    "    print(x)"
   ]
  },
  {
   "cell_type": "code",
   "execution_count": 25,
   "id": "18e1b6fd",
   "metadata": {},
   "outputs": [],
   "source": [
    "name=\"disha\""
   ]
  },
  {
   "cell_type": "code",
   "execution_count": 26,
   "id": "e5c26cc7",
   "metadata": {},
   "outputs": [
    {
     "name": "stdout",
     "output_type": "stream",
     "text": [
      "d\n",
      "i\n",
      "s\n",
      "h\n",
      "a\n"
     ]
    }
   ],
   "source": [
    "for item in name:\n",
    "    print(item)"
   ]
  },
  {
   "cell_type": "code",
   "execution_count": 27,
   "id": "94865c25",
   "metadata": {},
   "outputs": [
    {
     "name": "stdout",
     "output_type": "stream",
     "text": [
      "1\n",
      "2\n",
      "3\n",
      "4\n"
     ]
    }
   ],
   "source": [
    "for x in range(1,5):\n",
    "    print(x)"
   ]
  },
  {
   "cell_type": "code",
   "execution_count": 28,
   "id": "bffc67a1",
   "metadata": {},
   "outputs": [
    {
     "name": "stdout",
     "output_type": "stream",
     "text": [
      "2\n",
      "4\n",
      "6\n",
      "8\n",
      "10\n",
      "12\n",
      "14\n",
      "16\n",
      "18\n",
      "20\n"
     ]
    }
   ],
   "source": [
    "for x in range(2,22,2):\n",
    "    print(x)"
   ]
  },
  {
   "cell_type": "code",
   "execution_count": 29,
   "id": "f6778d9d",
   "metadata": {},
   "outputs": [],
   "source": [
    "my_dict={\"name\":\"disha\",\"age\":20,\"address\":\"ajmer\"}"
   ]
  },
  {
   "cell_type": "code",
   "execution_count": 30,
   "id": "5a61315a",
   "metadata": {},
   "outputs": [
    {
     "data": {
      "text/plain": [
       "{'name': 'disha', 'age': 20, 'address': 'ajmer'}"
      ]
     },
     "execution_count": 30,
     "metadata": {},
     "output_type": "execute_result"
    }
   ],
   "source": [
    "my_dict"
   ]
  },
  {
   "cell_type": "code",
   "execution_count": 31,
   "id": "a4e311ed",
   "metadata": {},
   "outputs": [
    {
     "name": "stdout",
     "output_type": "stream",
     "text": [
      "name\n",
      "age\n",
      "address\n"
     ]
    }
   ],
   "source": [
    "for keys in my_dict.keys():\n",
    "    print(keys)"
   ]
  },
  {
   "cell_type": "code",
   "execution_count": 32,
   "id": "8a7411a2",
   "metadata": {},
   "outputs": [
    {
     "name": "stdout",
     "output_type": "stream",
     "text": [
      "disha\n",
      "20\n",
      "ajmer\n"
     ]
    }
   ],
   "source": [
    "for values in my_dict.values():\n",
    "    print(values)"
   ]
  },
  {
   "cell_type": "code",
   "execution_count": 33,
   "id": "be802c9b",
   "metadata": {},
   "outputs": [
    {
     "name": "stdout",
     "output_type": "stream",
     "text": [
      "('name', 'disha')\n",
      "('age', 20)\n",
      "('address', 'ajmer')\n"
     ]
    }
   ],
   "source": [
    "for items in my_dict.items():\n",
    "    print(items)"
   ]
  },
  {
   "cell_type": "code",
   "execution_count": 34,
   "id": "838b51c3",
   "metadata": {},
   "outputs": [
    {
     "name": "stdout",
     "output_type": "stream",
     "text": [
      "1\n",
      "2\n",
      "3\n",
      "4\n",
      "4\n",
      "disha\n",
      "disha\n",
      "soni\n"
     ]
    }
   ],
   "source": [
    "tpl=(1,2,3,4,4,\"disha\",\"disha\",\"soni\")\n",
    "for x in tpl:\n",
    "    print(x)"
   ]
  },
  {
   "cell_type": "markdown",
   "id": "67042865",
   "metadata": {},
   "source": [
    "<h4>While loop</h4>"
   ]
  },
  {
   "cell_type": "code",
   "execution_count": 36,
   "id": "6500798c",
   "metadata": {},
   "outputs": [
    {
     "name": "stdout",
     "output_type": "stream",
     "text": [
      "0\n",
      "1\n",
      "2\n",
      "3\n",
      "4\n",
      "5\n",
      "6\n",
      "7\n",
      "8\n",
      "9\n"
     ]
    }
   ],
   "source": [
    "x=0\n",
    "while x<10:\n",
    "    print(x)\n",
    "    x=x+1"
   ]
  },
  {
   "cell_type": "code",
   "execution_count": 37,
   "id": "c102e755",
   "metadata": {},
   "outputs": [
    {
     "name": "stdout",
     "output_type": "stream",
     "text": [
      "11\n",
      "2\n",
      "3\n"
     ]
    }
   ],
   "source": [
    "list1=[11,2,3,5,5,8,5,8]\n",
    "for item in list1:\n",
    "    if item==5:\n",
    "        break\n",
    "    print(item)"
   ]
  },
  {
   "cell_type": "code",
   "execution_count": 38,
   "id": "1240753b",
   "metadata": {},
   "outputs": [
    {
     "name": "stdout",
     "output_type": "stream",
     "text": [
      "11\n",
      "2\n",
      "3\n",
      "8\n",
      "8\n"
     ]
    }
   ],
   "source": [
    "list1=[11,2,3,5,5,8,5,8]\n",
    "for item in list1:\n",
    "    if item==5:\n",
    "        continue\n",
    "    print(item)"
   ]
  },
  {
   "cell_type": "code",
   "execution_count": 42,
   "id": "ad53d8c4",
   "metadata": {},
   "outputs": [
    {
     "name": "stdout",
     "output_type": "stream",
     "text": [
      "2\n",
      "4\n",
      "6\n",
      "8\n",
      "12\n",
      "14\n",
      "16\n",
      "18\n",
      "20\n"
     ]
    }
   ],
   "source": [
    "for x in range(2,22,2):\n",
    "    if x==10:\n",
    "        continue\n",
    "    print(x)\n",
    "    "
   ]
  },
  {
   "cell_type": "code",
   "execution_count": 44,
   "id": "25837e6b",
   "metadata": {},
   "outputs": [
    {
     "name": "stdout",
     "output_type": "stream",
     "text": [
      "2\n",
      "hello\n",
      "hello\n",
      "hello\n",
      "2\n",
      "4\n",
      "hello\n",
      "hello\n",
      "hello\n",
      "4\n",
      "6\n",
      "hello\n",
      "hello\n",
      "hello\n",
      "6\n",
      "8\n",
      "hello\n",
      "hello\n",
      "hello\n",
      "8\n",
      "12\n",
      "hello\n",
      "hello\n",
      "hello\n",
      "12\n",
      "14\n",
      "hello\n",
      "hello\n",
      "hello\n",
      "14\n",
      "16\n",
      "hello\n",
      "hello\n",
      "hello\n",
      "16\n",
      "18\n",
      "hello\n",
      "hello\n",
      "hello\n",
      "18\n",
      "20\n",
      "hello\n",
      "hello\n",
      "hello\n",
      "20\n"
     ]
    }
   ],
   "source": [
    "for x in range(2,22,2):\n",
    "    if x==10:\n",
    "        continue\n",
    "    print(x)\n",
    "    print(\"hello\")\n",
    "    print(\"hello\")\n",
    "    print(\"hello\")\n",
    "    print(x)\n",
    "    "
   ]
  },
  {
   "cell_type": "code",
   "execution_count": null,
   "id": "04b3e594",
   "metadata": {},
   "outputs": [],
   "source": []
  }
 ],
 "metadata": {
  "kernelspec": {
   "display_name": "Python 3",
   "language": "python",
   "name": "python3"
  },
  "language_info": {
   "codemirror_mode": {
    "name": "ipython",
    "version": 3
   },
   "file_extension": ".py",
   "mimetype": "text/x-python",
   "name": "python",
   "nbconvert_exporter": "python",
   "pygments_lexer": "ipython3",
   "version": "3.11.5"
  }
 },
 "nbformat": 4,
 "nbformat_minor": 5
}

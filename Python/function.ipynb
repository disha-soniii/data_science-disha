{
 "cells": [
  {
   "cell_type": "markdown",
   "id": "0d0ecc98",
   "metadata": {},
   "source": [
    "<h4>Functions</h4>"
   ]
  },
  {
   "cell_type": "code",
   "execution_count": 28,
   "id": "66886282",
   "metadata": {},
   "outputs": [],
   "source": [
    "##create function\n",
    "\n",
    "def function_name():\n",
    "    pass\n",
    "#calling the function\n",
    "function_name()"
   ]
  },
  {
   "cell_type": "code",
   "execution_count": 29,
   "id": "cb6e7b9a",
   "metadata": {},
   "outputs": [
    {
     "name": "stdout",
     "output_type": "stream",
     "text": [
      "30\n"
     ]
    }
   ],
   "source": [
    "def add():\n",
    "    return(10+20)\n",
    "\n",
    "print(add())"
   ]
  },
  {
   "cell_type": "code",
   "execution_count": 30,
   "id": "478873b3",
   "metadata": {},
   "outputs": [],
   "source": [
    "def display():\n",
    "    print(\"hello world\")"
   ]
  },
  {
   "cell_type": "code",
   "execution_count": 31,
   "id": "04d6d943",
   "metadata": {},
   "outputs": [
    {
     "name": "stdout",
     "output_type": "stream",
     "text": [
      "hello world\n"
     ]
    }
   ],
   "source": [
    "display()"
   ]
  },
  {
   "cell_type": "code",
   "execution_count": 32,
   "id": "7b1f696c",
   "metadata": {},
   "outputs": [],
   "source": [
    "def square(a):\n",
    "    return(a**2)\n",
    "    \n"
   ]
  },
  {
   "cell_type": "code",
   "execution_count": 33,
   "id": "a468ae68",
   "metadata": {},
   "outputs": [
    {
     "data": {
      "text/plain": [
       "144"
      ]
     },
     "execution_count": 33,
     "metadata": {},
     "output_type": "execute_result"
    }
   ],
   "source": [
    "square(12)"
   ]
  },
  {
   "cell_type": "code",
   "execution_count": 34,
   "id": "febedad8",
   "metadata": {},
   "outputs": [],
   "source": [
    "def show(name,age=20):\n",
    "    print(f\"my name is {name} and my age is {age}\")\n"
   ]
  },
  {
   "cell_type": "code",
   "execution_count": 35,
   "id": "11ec5c90",
   "metadata": {},
   "outputs": [
    {
     "name": "stdout",
     "output_type": "stream",
     "text": [
      "my name is disha and my age is 20\n"
     ]
    }
   ],
   "source": [
    "show(name=\"disha\")"
   ]
  },
  {
   "cell_type": "code",
   "execution_count": 36,
   "id": "443f3231",
   "metadata": {},
   "outputs": [
    {
     "name": "stdout",
     "output_type": "stream",
     "text": [
      "my name is sangam and my age is 21\n"
     ]
    }
   ],
   "source": [
    "show(name=\"sangam\",age=21)"
   ]
  },
  {
   "cell_type": "code",
   "execution_count": 37,
   "id": "190ce33f",
   "metadata": {},
   "outputs": [
    {
     "name": "stdout",
     "output_type": "stream",
     "text": [
      "even\n"
     ]
    }
   ],
   "source": [
    "\n",
    "def evenodd(a):\n",
    "    if a%2==0:\n",
    "        print(\"even\")\n",
    "    else:\n",
    "        print(\"odd\")\n",
    "        \n",
    "evenodd(a=22)"
   ]
  },
  {
   "cell_type": "code",
   "execution_count": 38,
   "id": "561576f5",
   "metadata": {},
   "outputs": [
    {
     "name": "stdout",
     "output_type": "stream",
     "text": [
      "b is greatest 67\n"
     ]
    }
   ],
   "source": [
    "def largest(a,b,c):\n",
    "    if(a>b and a>c):\n",
    "        print(\"a is greatest\",a)\n",
    "    elif(b>a and b>c):\n",
    "        print(\"b is greatest\",b)\n",
    "    else:\n",
    "        print(\"c is greatest\",c)\n",
    "        \n",
    "largest(a=33,b=67,c=6)\n",
    "    "
   ]
  },
  {
   "cell_type": "markdown",
   "id": "889b4ee8",
   "metadata": {},
   "source": [
    "<h4>lambda function: an anonymous function</h4>"
   ]
  },
  {
   "cell_type": "code",
   "execution_count": 40,
   "id": "9f9692b0",
   "metadata": {},
   "outputs": [],
   "source": [
    "square=lambda a: a**2"
   ]
  },
  {
   "cell_type": "code",
   "execution_count": 41,
   "id": "b9272ff2",
   "metadata": {},
   "outputs": [
    {
     "data": {
      "text/plain": [
       "16"
      ]
     },
     "execution_count": 41,
     "metadata": {},
     "output_type": "execute_result"
    }
   ],
   "source": [
    "square(a=4)"
   ]
  },
  {
   "cell_type": "code",
   "execution_count": 42,
   "id": "6dcc5fb7",
   "metadata": {},
   "outputs": [
    {
     "data": {
      "text/plain": [
       "10"
      ]
     },
     "execution_count": 42,
     "metadata": {},
     "output_type": "execute_result"
    }
   ],
   "source": [
    "add=lambda a,b:a+b\n",
    "\n",
    "add(a=4,b=6)"
   ]
  },
  {
   "cell_type": "code",
   "execution_count": null,
   "id": "6a14cda5",
   "metadata": {},
   "outputs": [],
   "source": []
  }
 ],
 "metadata": {
  "kernelspec": {
   "display_name": "Python 3",
   "language": "python",
   "name": "python3"
  },
  "language_info": {
   "codemirror_mode": {
    "name": "ipython",
    "version": 3
   },
   "file_extension": ".py",
   "mimetype": "text/x-python",
   "name": "python",
   "nbconvert_exporter": "python",
   "pygments_lexer": "ipython3",
   "version": "3.11.5"
  }
 },
 "nbformat": 4,
 "nbformat_minor": 5
}

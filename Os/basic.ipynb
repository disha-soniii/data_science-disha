{
 "cells": [
  {
   "cell_type": "markdown",
   "id": "c08a5eb8",
   "metadata": {},
   "source": [
    "<h4>OS</h4>"
   ]
  },
  {
   "cell_type": "code",
   "execution_count": 32,
   "id": "713cc264",
   "metadata": {},
   "outputs": [],
   "source": [
    "import os"
   ]
  },
  {
   "cell_type": "code",
   "execution_count": 33,
   "id": "f73d98a3",
   "metadata": {},
   "outputs": [
    {
     "data": {
      "text/plain": [
       "'c:\\\\Users\\\\disha\\\\OneDrive\\\\Desktop\\\\Data Science\\\\Os'"
      ]
     },
     "execution_count": 33,
     "metadata": {},
     "output_type": "execute_result"
    }
   ],
   "source": [
    "os.getcwd()   #get current working directory"
   ]
  },
  {
   "cell_type": "code",
   "execution_count": 34,
   "id": "18eec719",
   "metadata": {},
   "outputs": [],
   "source": [
    "path=r\"C:\\Users\\disha\\OneDrive\\Desktop\\Data Science\\Python\""
   ]
  },
  {
   "cell_type": "code",
   "execution_count": 35,
   "id": "69a5ed54",
   "metadata": {},
   "outputs": [
    {
     "data": {
      "text/plain": [
       "['basic.py',\n",
       " 'condition.ipynb',\n",
       " 'function.ipynb',\n",
       " 'looping.ipynb',\n",
       " 'oops.ipynb']"
      ]
     },
     "execution_count": 35,
     "metadata": {},
     "output_type": "execute_result"
    }
   ],
   "source": [
    "os.listdir(path)"
   ]
  },
  {
   "cell_type": "code",
   "execution_count": 42,
   "id": "d1811962",
   "metadata": {},
   "outputs": [],
   "source": [
    "os.mkdir(\"demo\")"
   ]
  },
  {
   "cell_type": "code",
   "execution_count": 43,
   "id": "5e2c3720",
   "metadata": {},
   "outputs": [],
   "source": [
    "os.rename(\"demo\",\"abcd\")"
   ]
  },
  {
   "cell_type": "code",
   "execution_count": 44,
   "id": "92703097",
   "metadata": {},
   "outputs": [],
   "source": [
    "if os.path.exists(\"demo111\"):\n",
    "    print(\"Folder exists!\")"
   ]
  },
  {
   "cell_type": "code",
   "execution_count": 45,
   "id": "41e0a598",
   "metadata": {},
   "outputs": [],
   "source": [
    "os.rmdir(\"abcd\")"
   ]
  },
  {
   "cell_type": "code",
   "execution_count": 46,
   "id": "85fdbe78",
   "metadata": {},
   "outputs": [
    {
     "data": {
      "text/plain": [
       "['basic.py',\n",
       " 'condition.ipynb',\n",
       " 'function.ipynb',\n",
       " 'looping.ipynb',\n",
       " 'oops.ipynb']"
      ]
     },
     "execution_count": 46,
     "metadata": {},
     "output_type": "execute_result"
    }
   ],
   "source": [
    "path1=r\"C:\\Users\\disha\\OneDrive\\Desktop\\Data Science\"\n",
    "path2=r\"python\"\n",
    "complete_path=os.path.join(path1, path2)\n",
    "os.listdir(complete_path)"
   ]
  },
  {
   "cell_type": "code",
   "execution_count": 47,
   "id": "7b2e9d87",
   "metadata": {},
   "outputs": [
    {
     "data": {
      "text/plain": [
       "True"
      ]
     },
     "execution_count": 47,
     "metadata": {},
     "output_type": "execute_result"
    }
   ],
   "source": [
    "path=r\"C:\\Users\\disha\\OneDrive\\Desktop\\Data Science\\Python\\basic.py\"\n",
    "os.path.isfile(path)\n"
   ]
  },
  {
   "cell_type": "code",
   "execution_count": 48,
   "id": "bf161d7f",
   "metadata": {},
   "outputs": [
    {
     "data": {
      "text/plain": [
       "False"
      ]
     },
     "execution_count": 48,
     "metadata": {},
     "output_type": "execute_result"
    }
   ],
   "source": [
    "path=r\"C:\\Users\\disha\\OneDrive\\Desktop\\Data Science\\Python\\bees.py\"\n",
    "os.path.isfile(path)"
   ]
  },
  {
   "cell_type": "code",
   "execution_count": 49,
   "id": "8523ac4c",
   "metadata": {},
   "outputs": [
    {
     "data": {
      "text/plain": [
       "False"
      ]
     },
     "execution_count": 49,
     "metadata": {},
     "output_type": "execute_result"
    }
   ],
   "source": [
    "path=r\"C:\\Users\\disha\\OneDrive\\Desktop\\Data Science\\Python\"\n",
    "os.path.isfile(path)"
   ]
  },
  {
   "cell_type": "code",
   "execution_count": 50,
   "id": "905d46fb",
   "metadata": {},
   "outputs": [
    {
     "data": {
      "text/plain": [
       "True"
      ]
     },
     "execution_count": 50,
     "metadata": {},
     "output_type": "execute_result"
    }
   ],
   "source": [
    "path=r\"C:\\Users\\disha\\OneDrive\\Desktop\\Data Science\\Python\"\n",
    "os.path.isdir(path)"
   ]
  },
  {
   "cell_type": "code",
   "execution_count": 51,
   "id": "04a4de51",
   "metadata": {},
   "outputs": [
    {
     "name": "stdout",
     "output_type": "stream",
     "text": [
      "('C:\\\\Users\\\\disha\\\\OneDrive\\\\Desktop\\\\Data Science\\\\Python\\\\basic', '.py')\n"
     ]
    }
   ],
   "source": [
    "path=r\"C:\\Users\\disha\\OneDrive\\Desktop\\Data Science\\Python\\basic.py\"\n",
    "print(os.path.splitext(path))"
   ]
  },
  {
   "cell_type": "code",
   "execution_count": null,
   "id": "201aaa5c",
   "metadata": {},
   "outputs": [],
   "source": []
  }
 ],
 "metadata": {
  "kernelspec": {
   "display_name": "Python 3",
   "language": "python",
   "name": "python3"
  },
  "language_info": {
   "codemirror_mode": {
    "name": "ipython",
    "version": 3
   },
   "file_extension": ".py",
   "mimetype": "text/x-python",
   "name": "python",
   "nbconvert_exporter": "python",
   "pygments_lexer": "ipython3",
   "version": "3.11.5"
  }
 },
 "nbformat": 4,
 "nbformat_minor": 5
}
